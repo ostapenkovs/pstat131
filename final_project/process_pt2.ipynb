{
 "cells": [
  {
   "cell_type": "code",
   "execution_count": 1,
   "metadata": {},
   "outputs": [],
   "source": [
    "# Libraries\n",
    "import os\n",
    "import numpy as np\n",
    "import pandas as pd\n",
    "import seaborn as sns\n",
    "import matplotlib.pyplot as plt"
   ]
  },
  {
   "cell_type": "code",
   "execution_count": 2,
   "metadata": {},
   "outputs": [],
   "source": [
    "# Read in all DFs\n",
    "dat = pd.read_csv(\"./data/processed_data.csv\")\n",
    "vax = pd.read_csv(\"./data/processed_vax.csv\")\n",
    "sym = pd.read_csv(\"./data/processed_symptoms.csv\")"
   ]
  },
  {
   "cell_type": "code",
   "execution_count": 3,
   "metadata": {},
   "outputs": [],
   "source": [
    "# Pull only information from vax DF which could be sensibly used given we need to get rid of duplicates\n",
    "vax = pd.DataFrame(vax.groupby(\"vaersId\")[\"covid\"].apply(sum))\n",
    "\n",
    "# We make a single column vax DF which represents number of Covid vaccines received\n",
    "vax = vax.reset_index()\n",
    "vax.columns = [\"vaersId\", \"nCovidVax\"]"
   ]
  },
  {
   "cell_type": "code",
   "execution_count": 4,
   "metadata": {},
   "outputs": [],
   "source": [
    "# Merge all three dataframes together, combining X (features) and y (target)\n",
    "sigma = dat.merge(vax, on=\"vaersId\").merge(sym, on=\"vaersId\")"
   ]
  },
  {
   "cell_type": "code",
   "execution_count": 5,
   "metadata": {},
   "outputs": [],
   "source": [
    "# Write df to csv\n",
    "sigma.to_csv(\"./data/combined.csv\", index=False)"
   ]
  }
 ],
 "metadata": {
  "interpreter": {
   "hash": "e4c5dd30b89fab2dac0e8b21c056a5403e5f59305912cf16457062e4c6499459"
  },
  "kernelspec": {
   "display_name": "Python 3.8.12 ('tensorflow')",
   "language": "python",
   "name": "python3"
  },
  "language_info": {
   "codemirror_mode": {
    "name": "ipython",
    "version": 3
   },
   "file_extension": ".py",
   "mimetype": "text/x-python",
   "name": "python",
   "nbconvert_exporter": "python",
   "pygments_lexer": "ipython3",
   "version": "3.8.12"
  },
  "orig_nbformat": 4
 },
 "nbformat": 4,
 "nbformat_minor": 2
}
