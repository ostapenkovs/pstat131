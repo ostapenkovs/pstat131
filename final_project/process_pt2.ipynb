{
 "cells": [
  {
   "cell_type": "code",
   "execution_count": 58,
   "metadata": {},
   "outputs": [],
   "source": [
    "import os\n",
    "import numpy as np\n",
    "import pandas as pd\n",
    "import seaborn as sns\n",
    "import matplotlib.pyplot as plt"
   ]
  },
  {
   "cell_type": "code",
   "execution_count": 59,
   "metadata": {},
   "outputs": [],
   "source": [
    "dat = pd.read_csv(\"./data/processed_data.csv\")\n",
    "vax = pd.read_csv(\"./data/processed_vax.csv\")\n",
    "sym = pd.read_csv(\"./data/processed_symptoms.csv\")"
   ]
  },
  {
   "cell_type": "code",
   "execution_count": 60,
   "metadata": {},
   "outputs": [],
   "source": [
    "temp = pd.DataFrame(vax.groupby(\"vaersId\").apply(lambda x: x.values.tolist()))\n",
    "temp[0] = temp[0].apply(lambda x: [y[1:] for y in x][:2])\n",
    "temp = pd.DataFrame(temp[0].tolist(), index=temp.index)\n",
    "temp = temp.fillna(\"none\")\n",
    "temp[1] = temp[1].apply(lambda x: [] if x == \"none\" else x)\n",
    "\n",
    "temp1 = pd.DataFrame(temp[0].tolist(), index=temp.index, columns=[\"vaxType1\", \"vaxManu1\", \"vaxRoute1\", \"vaxSite1\", \"covid1\"])\n",
    "temp2 = pd.DataFrame(temp[1].tolist(), index=temp.index, columns=[\"vaxType2\", \"vaxManu2\", \"vaxRoute2\", \"vaxSite2\", \"covid2\"])\n",
    "temp2 = temp2.fillna(\"UNK\")\n",
    "\n",
    "temp = temp1.reset_index().merge(temp2.reset_index(), on=\"vaersId\")"
   ]
  },
  {
   "cell_type": "code",
   "execution_count": 61,
   "metadata": {},
   "outputs": [],
   "source": [
    "def covid_actual(row, covid1, covid2):\n",
    "    if (row[covid1] == 1) and (row[covid2] == \"UNK\"):\n",
    "        return 1\n",
    "    elif (row[covid1] == 0) and (row[covid2] == \"UNK\"):\n",
    "        return 0\n",
    "    else:\n",
    "        return row[covid1] or row[covid2]"
   ]
  },
  {
   "cell_type": "code",
   "execution_count": 62,
   "metadata": {},
   "outputs": [],
   "source": [
    "temp[\"covid\"] = temp.apply(covid_actual, axis=1, covid1=\"covid1\", covid2=\"covid2\")"
   ]
  },
  {
   "cell_type": "code",
   "execution_count": 63,
   "metadata": {},
   "outputs": [],
   "source": [
    "temp = temp.drop([\"covid1\", \"covid2\"], axis=1)"
   ]
  },
  {
   "cell_type": "code",
   "execution_count": 66,
   "metadata": {},
   "outputs": [],
   "source": [
    "common_vaers = list(set(\n",
    "    temp[\"vaersId\"].tolist()).intersection(set(\n",
    "        sym[\"vaersId\"].tolist())).intersection(set(\n",
    "            dat[\"vaersId\"].tolist())))"
   ]
  },
  {
   "cell_type": "code",
   "execution_count": 67,
   "metadata": {},
   "outputs": [],
   "source": [
    "temp = temp[temp[\"vaersId\"].isin(common_vaers)].reset_index().drop(\"index\", axis=1).copy()\n",
    "sym = sym[sym[\"vaersId\"].isin(common_vaers)].reset_index().drop(\"index\", axis=1).copy()\n",
    "dat = dat[dat[\"vaersId\"].isin(common_vaers)].reset_index().drop(\"index\", axis=1).copy()"
   ]
  },
  {
   "cell_type": "code",
   "execution_count": 72,
   "metadata": {},
   "outputs": [],
   "source": [
    "sigma = dat.merge(sym, on=\"vaersId\").merge(temp, on=\"vaersId\")"
   ]
  },
  {
   "cell_type": "code",
   "execution_count": 75,
   "metadata": {},
   "outputs": [],
   "source": [
    "sigma.to_csv(\"./data/combined.csv\", index=False)"
   ]
  }
 ],
 "metadata": {
  "interpreter": {
   "hash": "e4c5dd30b89fab2dac0e8b21c056a5403e5f59305912cf16457062e4c6499459"
  },
  "kernelspec": {
   "display_name": "Python 3.8.12 ('tensorflow')",
   "language": "python",
   "name": "python3"
  },
  "language_info": {
   "codemirror_mode": {
    "name": "ipython",
    "version": 3
   },
   "file_extension": ".py",
   "mimetype": "text/x-python",
   "name": "python",
   "nbconvert_exporter": "python",
   "pygments_lexer": "ipython3",
   "version": "3.8.12"
  },
  "orig_nbformat": 4
 },
 "nbformat": 4,
 "nbformat_minor": 2
}
